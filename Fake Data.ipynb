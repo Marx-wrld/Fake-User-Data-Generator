{
 "cells": [
  {
   "cell_type": "code",
   "execution_count": 1,
   "id": "4d77522c",
   "metadata": {},
   "outputs": [
    {
     "name": "stdout",
     "output_type": "stream",
     "text": [
      "Collecting fakerNote: you may need to restart the kernel to use updated packages.\n",
      "  Downloading Faker-19.1.0-py3-none-any.whl (1.7 MB)\n",
      "Requirement already satisfied: python-dateutil>=2.4 in c:\\users\\marx\\anaconda3\\lib\\site-packages (from faker) (2.8.2)\n",
      "Requirement already satisfied: six>=1.5 in c:\\users\\marx\\anaconda3\\lib\\site-packages (from python-dateutil>=2.4->faker) (1.16.0)\n",
      "Installing collected packages: faker\n",
      "Successfully installed faker-19.1.0\n",
      "\n"
     ]
    }
   ],
   "source": [
    "pip install faker"
   ]
  },
  {
   "cell_type": "code",
   "execution_count": 2,
   "id": "89b775e1",
   "metadata": {},
   "outputs": [],
   "source": [
    "from faker import Faker"
   ]
  },
  {
   "cell_type": "code",
   "execution_count": 3,
   "id": "7a44efb5",
   "metadata": {},
   "outputs": [],
   "source": [
    "fake = Faker()"
   ]
  },
  {
   "cell_type": "code",
   "execution_count": 5,
   "id": "70389624",
   "metadata": {},
   "outputs": [
    {
     "name": "stdout",
     "output_type": "stream",
     "text": [
      "Debra Marshall\n",
      "USNS Valenzuela\n",
      "FPO AE 75849\n",
      "Mission south upon. Example commercial anything maintain phone realize recognize.\n",
      "Trip middle season item. Dark issue position senior rock win possible.\n",
      "smithcory@example.com\n",
      "Dominica\n",
      "-27.375232 43.636149\n",
      "http://newman.info/\n"
     ]
    }
   ],
   "source": [
    "print(fake.name())\n",
    "print(fake.address())\n",
    "print(fake.text())\n",
    "print(fake.email())\n",
    "print(fake.country())\n",
    "print(fake.latitude(), fake.longitude())\n",
    "print(fake.url())"
   ]
  },
  {
   "cell_type": "code",
   "execution_count": null,
   "id": "97e2549d",
   "metadata": {},
   "outputs": [],
   "source": []
  }
 ],
 "metadata": {
  "kernelspec": {
   "display_name": "Python 3 (ipykernel)",
   "language": "python",
   "name": "python3"
  },
  "language_info": {
   "codemirror_mode": {
    "name": "ipython",
    "version": 3
   },
   "file_extension": ".py",
   "mimetype": "text/x-python",
   "name": "python",
   "nbconvert_exporter": "python",
   "pygments_lexer": "ipython3",
   "version": "3.9.7"
  }
 },
 "nbformat": 4,
 "nbformat_minor": 5
}
